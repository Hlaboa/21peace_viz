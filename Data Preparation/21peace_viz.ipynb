{
 "cells": [
  {
   "cell_type": "code",
   "execution_count": 1,
   "metadata": {
    "ExecuteTime": {
     "end_time": "2019-12-06T16:23:55.272412Z",
     "start_time": "2019-12-06T16:23:55.267353Z"
    }
   },
   "outputs": [],
   "source": [
    "import pandas as pd\n",
    "import numpy as np\n",
    "\n",
    "pd.set_option('display.max_columns', 500)"
   ]
  },
  {
   "cell_type": "code",
   "execution_count": 2,
   "metadata": {},
   "outputs": [],
   "source": [
    "df_reasons = pd.DataFrame({\n",
    "    \"reason\":['Children', 'Race', 'Religion', 'Indigenous', 'Refugees', 'Sexual orientation', 'Media governance',\n",
    "              'Media roles', 'Natural resources', 'Nomadism', 'Culture (tangible)', 'Culture (intangible)', 'Drugs', 'Crime',\n",
    "              'State definition', 'Life', 'Torture', 'Slavery', 'Freedom of speech', 'Freedom of movement', 'Vote'], \n",
    "    \n",
    "    \"id\":['children', 'racial', 'religion','indigenous', 'refugees', 'sexual', 'media_gov', 'media_roles',\n",
    "              'natural', 'nomadism', 'cult_tang', 'cult_intang', 'drugs', 'cri dme',\n",
    "              'state', 'life', 'torture', 'slavery', 'speech', 'movement', 'vote'],  \n",
    "    \n",
    "    \"explanation\":[\n",
    "        'Peace agreements that contain provision(s) on children, child rights, youth, young people, or similar',\n",
    "        'Peace agreements that contain provision(s) related to race, national minorities, ethnic nationalism or similar',\n",
    "        'Peace agreements that contain provision(s) on religious groups',\n",
    "        'Peace agreements that contain provision(s) on indigenous groups',\n",
    "        'Peace agreements that contain provision(s) that address refugee issues, such as return, repatriation and land claims',\n",
    "        'Peace agreements that contain provision(s) related to gay, lesbian, transgender or transsexual people',\n",
    "        'Peace agreements that contain provision(s) related to governance of media, such as where power over media and communication are assigned',\n",
    "        \n",
    "        'Peace agreements that contain provision(s) dealing with particular roles or access for the media',\n",
    "        'Peace agreements that contain provision(s) related with natural resources, such as hydrocarbons, pasture, forestry, or hydroelectric power generation',\n",
    "        'Peace agreements that contain provision(s) for nomadic or pastoralist peoples or communities, including grazing rights',\n",
    "        \n",
    "        'Peace agreements that contain provision(s) related to tangible aspects of cultural heritage, such as museums, antiques, monuments or handicrafts',\n",
    "        'Peace agreements that contain provision(s) related to intangible aspects of cultural heritage, such as national languages, dances, songs or traditions',\n",
    "        'Peace agreements that contain provision(s) related to illicit drugs, including drug trading and trafficking',\n",
    "        'Peace agreements that contain provision(s) related to crime or organised crime',\n",
    "\n",
    "        'Peace agreements that contain provision(s) that refer to the self determination, referendum or secession of the state',\n",
    "        'Peace agreements that contain provision(s) related to the right to life',\n",
    "        'Peace agreements that contain provision(s) related to freedom from torture',\n",
    "        'Peace agreements that contain provision(s) related to the ban of slavery',\n",
    "        'Peace agreements that contain provision(s) related to freedom of speech',\n",
    "        'Peace agreements that contain provision(s) related to freedom of movement',\n",
    "        'Peace agreements that contain provision(s) related to the right to vote and participate in public life']\n",
    "   })"
   ]
  },
  {
   "cell_type": "code",
   "execution_count": 3,
   "metadata": {
    "ExecuteTime": {
     "end_time": "2019-12-06T16:23:55.937349Z",
     "start_time": "2019-12-06T16:23:55.880680Z"
    },
    "scrolled": true
   },
   "outputs": [],
   "source": [
    "df = pd.read_csv('Data/pax_data.csv')"
   ]
  },
  {
   "cell_type": "code",
   "execution_count": 4,
   "metadata": {
    "ExecuteTime": {
     "end_time": "2019-12-04T23:10:21.114656Z",
     "start_time": "2019-12-04T23:10:21.103257Z"
    }
   },
   "outputs": [],
   "source": [
    "vars_to_keep = ['Con', 'Dat', 'Contp', 'Agtp', 'Status', 'Stage', 'AgtId',\n",
    "                'PPName', 'Agt', 'Part', 'Loc1ISO', 'Loc2ISO',\n",
    "                'GCh', 'GRa', 'GRe', 'GInd', 'GRef', 'GeSo', 'MedGov', 'MedSubs', 'NatRes', 'LaNom', \n",
    "                'LaCHTa', 'LaCHIt', 'SsrDrugs', 'SsrCrOcr', 'StInd', 'StRef',  'StSd', \n",
    "                'CprLife', 'CprTort', 'CprSlav', 'CprFspe', 'CprFmov' ,'CprVote']\n",
    "\n",
    "df = df.reindex(columns=vars_to_keep)\n",
    "\n",
    "df = df.rename(columns={\n",
    "                'GCh': 'children',\n",
    "                'SsrCrOcr': 'crime',\n",
    "                'LaCHIt': 'cult_intang',\n",
    "                'LaCHTa': 'cult_tang',\n",
    "                'SsrDrugs': 'drugs',\n",
    "                'GInd': 'indigenous',\n",
    "                'CprLife': 'life',\n",
    "                'MedGov': 'media_gov',\n",
    "                'MedSubs': 'media_roles',\n",
    "                'CprFmov': 'movement',\n",
    "                'NatRes': 'natural',\n",
    "                'LaNom': 'nomadism',\n",
    "                'GRa': 'racial',\n",
    "                'GRef': 'refugees',\n",
    "                'GRe': 'religion',\n",
    "                'GeSo': 'sexual',\n",
    "                'CprSlav': 'slavery',\n",
    "                'CprFspe': 'speech',\n",
    "                'StDef': 'state',\n",
    "                'CprTort': 'torture',\n",
    "                'CprVote': 'vote',\n",
    "                })\n",
    "\n",
    "df['Dat']= pd.to_datetime(df['Dat'])\n",
    "\n",
    "cols_to_binarize = ['children', 'crime', 'drugs', 'indigenous', 'racial', 'refugees', 'religion']\n",
    "for col in cols_to_binarize:\n",
    "    not_includded = df[col].isin([0, 1])\n",
    "    df[col] = np.where(not_includded, 0, 1)\n",
    "    \n",
    "    \n",
    "df['state'] = (df['StInd'] | df['StRef'] | df['StSd'])\n",
    "\n",
    "df.drop(columns=['StInd', 'StRef',  'StSd'], inplace=True)\n",
    "\n",
    "\n",
    "df['Loc3ISO'] = np.nan\n",
    "df['Loc4ISO'] = np.nan\n",
    "df['Loc5ISO'] = np.nan\n",
    "df['Loc6ISO'] = np.nan\n",
    "df['Loc7ISO'] = np.nan\n",
    "df['Loc8ISO'] = np.nan\n",
    "df['Loc9ISO'] = np.nan\n",
    "df['Loc10ISO'] = np.nan\n",
    "df['Loc11ISO'] = np.nan\n",
    "\n",
    "\n",
    "df['Stage'] = np.where(df.Stage=='Cea', 'Ceasefire related', df['Stage'])\n",
    "df['Stage'] = np.where(df.Stage=='Imp', 'Implementation/Renegotiation', df['Stage'])\n",
    "df['Stage'] = np.where(df.Stage=='Oth', 'Other', df['Stage'])\n",
    "df['Stage'] = np.where(df.Stage=='Pre', 'Pre-negotiation/Process', df['Stage'])\n",
    "df['Stage'] = np.where(df.Stage=='Ren', 'Renewal', df['Stage'])\n",
    "df['Stage'] = np.where(df.Stage=='SubComp', 'Substantive-Comprehensive', df['Stage'])\n",
    "df['Stage'] = np.where(df.Stage=='SubPar', 'Substantive-Partial', df['Stage'])\n",
    "\n",
    "\n",
    "# Cut too long agreement text\n",
    "too_long = (df.AgtId==1796)\n",
    "df['Agt'] = np.where(too_long, (df.Agt.str[:350]+'...'), df.Agt)"
   ]
  },
  {
   "cell_type": "code",
   "execution_count": 5,
   "metadata": {},
   "outputs": [
    {
     "data": {
      "text/plain": [
       "(866, 42)"
      ]
     },
     "execution_count": 5,
     "metadata": {},
     "output_type": "execute_result"
    }
   ],
   "source": [
    "reasons = [\n",
    "        'racial', 'religion', 'indigenous', 'refugees', 'sexual', 'media_gov',\n",
    "        'media_roles', 'natural', 'nomadism', 'cult_tang', 'cult_intang', 'drugs',\n",
    "        'crime', 'life', 'torture', 'slavery', 'speech', 'movement', 'vote', 'state']\n",
    "\n",
    "mask = (df.children!=0)\n",
    "for r in reasons:\n",
    "    mask = (mask | (df[r]!=0))\n",
    "    \n",
    "df = df[mask]\n",
    "df.shape"
   ]
  },
  {
   "cell_type": "code",
   "execution_count": 8,
   "metadata": {},
   "outputs": [],
   "source": [
    "def update_location(indexes, locs):\n",
    "    for num in indexes:\n",
    "        for i,l in enumerate(locs):\n",
    "            df.loc[num, 'Loc'+str(i+1)+'ISO'] = l \n",
    "            \n",
    "\n",
    "update_location([39, 40], ['AGO', 'BDI', 'CAF', 'COD', 'KEN', 'COG', 'RWA', 'SDN', 'TZA', 'UGA', 'ZMB'])\n",
    "update_location([41], ['AGO', 'BDI', 'CAF', 'COD', 'COG', 'RWA', 'ZAF', 'SSD', 'TZA', 'UGA', 'ZMB'])\n",
    "update_location([43], ['AGO', 'CAF', 'COD', 'KEN', 'COG', 'RWA', 'SDN', 'TZA', 'UGA', 'ZMB'])\n",
    "update_location([69], ['AZE', 'ARM', 'RUS'])\n",
    "update_location([263], ['CAF', 'TCD', 'SDN'])\n",
    "update_location([283], ['CHN', 'KAZ', 'KGZ', 'RUS', 'TJK'])\n",
    "update_location([450], ['HRV', 'SVN'])\n",
    "update_location([568], ['ERI', 'ETH', 'SOM'])\n",
    "update_location([577], ['FRA', 'DEU', 'RUS', 'GBR', 'USA'])\n",
    "update_location([767, 768, 769], ['ISR', 'JOR', 'PSE'])\n",
    "\n",
    "isr_pal = df.Con.isin(['Israel/Palestine', 'Israel/(Palestine)', 'Palestine'])\n",
    "df['Loc1ISO'] = np.where(isr_pal, 'ISR', df['Loc1ISO'])\n",
    "df['Loc2ISO'] = np.where(isr_pal, 'PSE', df['Loc2ISO'])\n",
    "\n",
    "kos_ser = df.Con.isin(['Kosovo/Serbia/Yugoslavia (former)'])\n",
    "df['Loc1ISO'] = np.where(kos_ser, 'RKS', df['Loc1ISO'])\n",
    "df['Loc2ISO'] = np.where(kos_ser, 'SRB', df['Loc2ISO'])\n",
    "\n",
    "update_location([853], ['TUR', 'SYR', 'IRQ', 'IRN'])\n",
    "update_location([857], ['LBN', 'SYR'])\n",
    "update_location([895], ['LBY'])\n",
    "\n",
    "df.loc[976, 'Loc2ISO'] = np.nan\n",
    "\n",
    "update_location([1370, 1371], ['SRB'])\n",
    "update_location([1533, 1536], ['SSD', 'SDN'])\n",
    "\n",
    "sud = df.Con=='South Sudan/Sudan/Southern Kordofan - Blue Nile - Abyei'\n",
    "df['Loc1ISO'] = np.where(sud, 'SSD', df['Loc1ISO'])\n",
    "df['Loc2ISO'] = np.where(sud, 'SDN', df['Loc2ISO'])"
   ]
  },
  {
   "cell_type": "code",
   "execution_count": 9,
   "metadata": {
    "scrolled": true
   },
   "outputs": [],
   "source": [
    "df_chart = df.copy()\n",
    "\n",
    "def create_country_list(row):\n",
    "    l = list()\n",
    "    \n",
    "    for i in range(11):\n",
    "        var_name = 'Loc'+str(i+1)+'ISO'\n",
    "        if (row[var_name] == row[var_name]):\n",
    "            l.append(row[var_name])\n",
    "        \n",
    "    return l\n",
    "\n",
    "\n",
    "df_chart['LocISO'] = df_chart.apply(create_country_list, axis='columns')"
   ]
  },
  {
   "cell_type": "code",
   "execution_count": 10,
   "metadata": {},
   "outputs": [],
   "source": [
    "id_vars = ['Con', 'Dat', 'Contp', 'Agtp', 'Status', 'Stage', 'PPName', 'Agt', 'AgtId', 'Part', 'children',\n",
    "           'racial', 'religion', 'indigenous', 'refugees', 'sexual', 'media_gov', 'media_roles',\n",
    "           'natural', 'nomadism', 'cult_tang', 'cult_intang', 'drugs', 'crime', 'life', 'torture',\n",
    "           'slavery', 'speech', 'movement', 'vote', 'state']\n",
    "\n",
    "value_vars = ['Loc1ISO', 'Loc2ISO', 'Loc3ISO', 'Loc4ISO', 'Loc5ISO', 'Loc6ISO',\n",
    "              'Loc7ISO', 'Loc8ISO', 'Loc9ISO', 'Loc10ISO', 'Loc11ISO']\n",
    "\n",
    "df_full = df.melt(id_vars=id_vars, value_vars=value_vars, var_name='numCountry', value_name='LocISO')\n",
    "df_full = df_full[df_full.LocISO.notna()]\n",
    "\n",
    "\n",
    "\n",
    "vars_to_keep = ['Dat', 'Agtp', 'Status', 'Stage', 'PPName', 'Agt', 'AgtId',\n",
    "                'children', 'racial', 'religion', 'indigenous', 'refugees',\n",
    "                'sexual', 'media_gov', 'media_roles', 'natural', 'nomadism',\n",
    "                'cult_tang', 'cult_intang', 'drugs', 'crime', 'life', 'torture',\n",
    "                'slavery', 'speech', 'movement', 'vote', 'state', 'LocISO']\n",
    "\n",
    "df_full = df_full.filter(vars_to_keep)\n",
    "df_chart = df_chart.filter(vars_to_keep)"
   ]
  },
  {
   "cell_type": "code",
   "execution_count": 11,
   "metadata": {
    "scrolled": true
   },
   "outputs": [],
   "source": [
    "id_vars = ['Dat', 'Agtp', 'Status', 'Stage', 'PPName', 'Agt', 'AgtId', 'LocISO']\n",
    "\n",
    "value_vars = ['children', 'racial', 'religion', 'indigenous', 'refugees',\n",
    "              'sexual', 'media_gov', 'media_roles', 'natural', 'nomadism',\n",
    "              'cult_tang', 'cult_intang', 'drugs', 'crime', 'life', 'torture',\n",
    "              'slavery', 'speech', 'movement', 'vote', 'state']\n",
    "\n",
    "df_full = df_full.melt(id_vars=id_vars, value_vars=value_vars, var_name='reason', value_name='reasonValue')\n",
    "df_chart = df_chart.melt(id_vars=id_vars, value_vars=value_vars, var_name='reason', value_name='reasonValue')"
   ]
  },
  {
   "cell_type": "code",
   "execution_count": 12,
   "metadata": {},
   "outputs": [
    {
     "data": {
      "text/plain": [
       "(2310, 9)"
      ]
     },
     "execution_count": 12,
     "metadata": {},
     "output_type": "execute_result"
    }
   ],
   "source": [
    "df_full = df_full[df_full.reasonValue==1]\n",
    "df_full.drop(columns='reasonValue', inplace=True)\n",
    "\n",
    "df_chart = df_chart[df_chart.reasonValue==1]\n",
    "df_chart.drop(columns='reasonValue', inplace=True)\n",
    "\n",
    "df_chart.shape"
   ]
  },
  {
   "cell_type": "code",
   "execution_count": 16,
   "metadata": {
    "pycharm": {
     "name": "#%%\n"
    }
   },
   "outputs": [],
   "source": [
    "df_full.to_json('pax_data.json', orient='records')\n",
    "df_chart.to_json('pax_data_chart.json', orient='records')\n",
    "df_reasons.to_json('21reasons.json', orient='records')"
   ]
  }
 ],
 "metadata": {
  "kernelspec": {
   "display_name": "Python 3",
   "language": "python",
   "name": "python3"
  },
  "language_info": {
   "codemirror_mode": {
    "name": "ipython",
    "version": 3
   },
   "file_extension": ".py",
   "mimetype": "text/x-python",
   "name": "python",
   "nbconvert_exporter": "python",
   "pygments_lexer": "ipython3",
   "version": "3.7.4"
  },
  "pycharm": {
   "stem_cell": {
    "cell_type": "raw",
    "source": [],
    "metadata": {
     "collapsed": false
    }
   }
  }
 },
 "nbformat": 4,
 "nbformat_minor": 2
}